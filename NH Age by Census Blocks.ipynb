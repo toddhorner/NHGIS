{
 "cells": [
  {
   "cell_type": "markdown",
   "metadata": {},
   "source": [
    "# Parsing US Census Age Data from NHGIS IPUMS\n",
    "\n",
    "The following notebook parses census block-level data from the 2010 Decennial Census. Data is sourced from the [National Historic GIS](https://www.nhgis.org/) from the University of Minnesota. Age data is grouped into major age groups and a GEOID is created for joining with census block GIS data. The GEOID is 15-charater [FIPS code](https://www.census.gov/geo/reference/geoidentifiers.html)"
   ]
  },
  {
   "cell_type": "code",
   "execution_count": 21,
   "metadata": {},
   "outputs": [],
   "source": [
    "#Import the Pandas library and rad create a dataframe from the csv file\n",
    "import pandas as  pd\n",
    "df = pd.read_csv('nhgis0040_csv/nhgis0040_ds172_2010_block.csv')"
   ]
  },
  {
   "cell_type": "code",
   "execution_count": 22,
   "metadata": {},
   "outputs": [],
   "source": [
    "#Create lists of headers for the columns to be summed for each age group.\n",
    "#The file seperates males and females, so those need to be added together.\n",
    "UNDER18 = ['H760{0:02d}'.format(x) for x in range(3,7)] + ['H760{0:02d}'.format(x) for x in range(27,31)]\n",
    "AGE18_64 = ['H760{0:02d}'.format(x) for x in range(7,20)] + ['H760{0:02d}'.format(x) for x in range(31,44)]\n",
    "OVER64 = ['H760{0:02d}'.format(x) for x in range(20,26)] + ['H760{0:02d}'.format(x) for x in range(44,50)]"
   ]
  },
  {
   "cell_type": "code",
   "execution_count": 23,
   "metadata": {},
   "outputs": [],
   "source": [
    "#Create new columns for each major age group.\n",
    "df['UNDER18'] = df[UNDER18].sum(axis=1)\n",
    "df['AGE18_64'] = df[AGE18_64].sum(axis=1)\n",
    "df['OVER64'] = df[OVER64].sum(axis=1)"
   ]
  },
  {
   "cell_type": "code",
   "execution_count": 24,
   "metadata": {},
   "outputs": [],
   "source": [
    "#Contacenate geography FIPS codes to generate a 15-digit FIPS that can be used to join on \n",
    "#Census block GIS data\n",
    "\n",
    "df['GEOID'] = (df['STATEA'].apply(lambda x : '{0:02d}'.format(x)) +\n",
    "               df['COUNTYA'].apply(lambda x : '{0:03d}'.format(x))+\n",
    "               df['TRACTA'].apply(lambda x : '{0:05d}'.format(x)) +\n",
    "               df['BLOCKA'].apply(lambda x : '{0:04d}'.format(x))\n",
    "              )"
   ]
  },
  {
   "cell_type": "code",
   "execution_count": 25,
   "metadata": {},
   "outputs": [],
   "source": [
    "#Create a simplified dataframe for export as a csv file\n",
    "ages = df[['GEOID','UNDER18','AGE18_64','OVER64']]\n",
    "ages.to_csv('nh_blocks_ages.csv',index=False)"
   ]
  }
 ],
 "metadata": {
  "kernelspec": {
   "display_name": "Python 3",
   "language": "python",
   "name": "python3"
  },
  "language_info": {
   "codemirror_mode": {
    "name": "ipython",
    "version": 3
   },
   "file_extension": ".py",
   "mimetype": "text/x-python",
   "name": "python",
   "nbconvert_exporter": "python",
   "pygments_lexer": "ipython3",
   "version": "3.6.6"
  }
 },
 "nbformat": 4,
 "nbformat_minor": 2
}
